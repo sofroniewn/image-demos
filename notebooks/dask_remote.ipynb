{
 "cells": [
  {
   "cell_type": "code",
   "execution_count": 3,
   "metadata": {},
   "outputs": [],
   "source": [
    "import itertools\n",
    "import numbers\n",
    "import warnings\n",
    "\n",
    "import dask\n",
    "import dask.array\n",
    "import dask.delayed\n",
    "import numpy\n",
    "import pims\n",
    "\n",
    "\n",
    "def _read_frame(fn, i):\n",
    "    with pims.open(fn) as imgs:\n",
    "        return numpy.asanyarray(imgs[i])\n",
    "\n",
    "    \n",
    "def imread(fname, nframes=1):\n",
    "    \"\"\"\n",
    "    Read image data into a Dask Array.\n",
    "\n",
    "    Provides a simple, fast mechanism to ingest image data into a\n",
    "    Dask Array.\n",
    "\n",
    "    Parameters\n",
    "    ----------\n",
    "    fname : str\n",
    "        A glob like string that may match one or multiple filenames.\n",
    "    nframes : int, optional\n",
    "        Number of the frames to include in each chunk (default: 1).\n",
    "\n",
    "    Returns\n",
    "    -------\n",
    "    array : dask.array.Array\n",
    "        A Dask Array representing the contents of all image files.\n",
    "    \"\"\"\n",
    "\n",
    "    if not isinstance(nframes, numbers.Integral):\n",
    "        raise ValueError(\"`nframes` must be an integer.\")\n",
    "    if (nframes != -1) and not (nframes > 0):\n",
    "        raise ValueError(\"`nframes` must be greater than zero.\")\n",
    "\n",
    "    with pims.open(fname) as imgs:\n",
    "        shape = (len(imgs),) + imgs.frame_shape\n",
    "        dtype = numpy.dtype(imgs.pixel_type)\n",
    "\n",
    "    if nframes == -1:\n",
    "        nframes = shape[0]\n",
    "\n",
    "    if nframes > shape[0]:\n",
    "        warnings.warn(\n",
    "            \"`nframes` larger than number of frames in file.\"\n",
    "            \" Will truncate to number of frames in file.\",\n",
    "            RuntimeWarning\n",
    "        )\n",
    "    elif shape[0] % nframes != 0:\n",
    "        warnings.warn(\n",
    "            \"`nframes` does not nicely divide number of frames in file.\"\n",
    "            \" Last chunk will contain the remainder.\",\n",
    "            RuntimeWarning\n",
    "        )\n",
    "\n",
    "    lower_iter, upper_iter = itertools.tee(itertools.chain(\n",
    "        range(0, shape[0], nframes),\n",
    "        [shape[0]]\n",
    "    ))\n",
    "    next(upper_iter)\n",
    "\n",
    "    a = []\n",
    "    for i, j in zip(lower_iter, upper_iter):\n",
    "        a.append(dask.array.from_delayed(\n",
    "            dask.delayed(_read_frame)(fname, slice(i, j)),\n",
    "            (j - i,) + shape[1:],\n",
    "            dtype\n",
    "        ))\n",
    "    a = dask.array.concatenate(a)\n",
    "\n",
    "    return a"
   ]
  },
  {
   "cell_type": "code",
   "execution_count": 7,
   "metadata": {},
   "outputs": [],
   "source": [
    "local_path = '../data/hymenoptera/train/bees/'"
   ]
  },
  {
   "cell_type": "code",
   "execution_count": 9,
   "metadata": {},
   "outputs": [],
   "source": [
    "local_array = imread(local_path + '*.jpg')"
   ]
  },
  {
   "cell_type": "code",
   "execution_count": 10,
   "metadata": {},
   "outputs": [],
   "source": [
    "remote_path = 's3://sofroniewn/image-data/bees/'"
   ]
  },
  {
   "cell_type": "code",
   "execution_count": 12,
   "metadata": {},
   "outputs": [
    {
     "name": "stderr",
     "output_type": "stream",
     "text": [
      "/anaconda3/lib/python3.7/site-packages/pims/api.py:191: UserWarning: <class 'pims.image_reader.ImageReader'> errored: No such file: '/Users/nicholassofroniew/Github/image-demos/notebooks/s3:/sofroniewn/image-data/bees/*.jpg'\n",
      "  warn(message)\n",
      "/anaconda3/lib/python3.7/site-packages/pims/api.py:191: UserWarning: <class 'pims.image_reader.ImageReaderND'> errored: No such file: '/Users/nicholassofroniew/Github/image-demos/notebooks/s3:/sofroniewn/image-data/bees/*.jpg'\n",
      "  warn(message)\n",
      "/anaconda3/lib/python3.7/site-packages/pims/api.py:191: UserWarning: <class 'pims.imageio_reader.ImageIOReader'> errored: No such file: '/Users/nicholassofroniew/Github/image-demos/notebooks/s3:/sofroniewn/image-data/bees/*.jpg'\n",
      "  warn(message)\n",
      "/anaconda3/lib/python3.7/site-packages/pims/api.py:191: UserWarning: <class 'pims.bioformats.BioformatsReader'> errored: The file \"s3://sofroniewn/image-data/bees/*.jpg\" does not exist.\n",
      "  warn(message)\n"
     ]
    },
    {
     "ename": "UnknownFormatError",
     "evalue": "All handlers returned exceptions:\n<class 'pims.image_reader.ImageReader'> errored: No such file: '/Users/nicholassofroniew/Github/image-demos/notebooks/s3:/sofroniewn/image-data/bees/*.jpg'\n<class 'pims.image_reader.ImageReaderND'> errored: No such file: '/Users/nicholassofroniew/Github/image-demos/notebooks/s3:/sofroniewn/image-data/bees/*.jpg'\n<class 'pims.imageio_reader.ImageIOReader'> errored: No such file: '/Users/nicholassofroniew/Github/image-demos/notebooks/s3:/sofroniewn/image-data/bees/*.jpg'\n<class 'pims.bioformats.BioformatsReader'> errored: The file \"s3://sofroniewn/image-data/bees/*.jpg\" does not exist.\n",
     "output_type": "error",
     "traceback": [
      "\u001b[0;31m---------------------------------------------------------------------------\u001b[0m",
      "\u001b[0;31mUnknownFormatError\u001b[0m                        Traceback (most recent call last)",
      "\u001b[0;32m<ipython-input-12-6f77b2288d5e>\u001b[0m in \u001b[0;36m<module>\u001b[0;34m\u001b[0m\n\u001b[0;32m----> 1\u001b[0;31m \u001b[0mremote_array\u001b[0m \u001b[0;34m=\u001b[0m \u001b[0mimread\u001b[0m\u001b[0;34m(\u001b[0m\u001b[0mremote_path\u001b[0m \u001b[0;34m+\u001b[0m \u001b[0;34m'*.jpg'\u001b[0m\u001b[0;34m)\u001b[0m\u001b[0;34m\u001b[0m\u001b[0;34m\u001b[0m\u001b[0m\n\u001b[0m",
      "\u001b[0;32m<ipython-input-3-dfd72001ecdd>\u001b[0m in \u001b[0;36mimread\u001b[0;34m(fname, nframes)\u001b[0m\n\u001b[1;32m     40\u001b[0m         \u001b[0;32mraise\u001b[0m \u001b[0mValueError\u001b[0m\u001b[0;34m(\u001b[0m\u001b[0;34m\"`nframes` must be greater than zero.\"\u001b[0m\u001b[0;34m)\u001b[0m\u001b[0;34m\u001b[0m\u001b[0;34m\u001b[0m\u001b[0m\n\u001b[1;32m     41\u001b[0m \u001b[0;34m\u001b[0m\u001b[0m\n\u001b[0;32m---> 42\u001b[0;31m     \u001b[0;32mwith\u001b[0m \u001b[0mpims\u001b[0m\u001b[0;34m.\u001b[0m\u001b[0mopen\u001b[0m\u001b[0;34m(\u001b[0m\u001b[0mfname\u001b[0m\u001b[0;34m)\u001b[0m \u001b[0;32mas\u001b[0m \u001b[0mimgs\u001b[0m\u001b[0;34m:\u001b[0m\u001b[0;34m\u001b[0m\u001b[0;34m\u001b[0m\u001b[0m\n\u001b[0m\u001b[1;32m     43\u001b[0m         \u001b[0mshape\u001b[0m \u001b[0;34m=\u001b[0m \u001b[0;34m(\u001b[0m\u001b[0mlen\u001b[0m\u001b[0;34m(\u001b[0m\u001b[0mimgs\u001b[0m\u001b[0;34m)\u001b[0m\u001b[0;34m,\u001b[0m\u001b[0;34m)\u001b[0m \u001b[0;34m+\u001b[0m \u001b[0mimgs\u001b[0m\u001b[0;34m.\u001b[0m\u001b[0mframe_shape\u001b[0m\u001b[0;34m\u001b[0m\u001b[0;34m\u001b[0m\u001b[0m\n\u001b[1;32m     44\u001b[0m         \u001b[0mdtype\u001b[0m \u001b[0;34m=\u001b[0m \u001b[0mnumpy\u001b[0m\u001b[0;34m.\u001b[0m\u001b[0mdtype\u001b[0m\u001b[0;34m(\u001b[0m\u001b[0mimgs\u001b[0m\u001b[0;34m.\u001b[0m\u001b[0mpixel_type\u001b[0m\u001b[0;34m)\u001b[0m\u001b[0;34m\u001b[0m\u001b[0;34m\u001b[0m\u001b[0m\n",
      "\u001b[0;32m/anaconda3/lib/python3.7/site-packages/pims/api.py\u001b[0m in \u001b[0;36mopen\u001b[0;34m(sequence, **kwargs)\u001b[0m\n\u001b[1;32m    191\u001b[0m             \u001b[0mwarn\u001b[0m\u001b[0;34m(\u001b[0m\u001b[0mmessage\u001b[0m\u001b[0;34m)\u001b[0m\u001b[0;34m\u001b[0m\u001b[0;34m\u001b[0m\u001b[0m\n\u001b[1;32m    192\u001b[0m             \u001b[0mexceptions\u001b[0m \u001b[0;34m+=\u001b[0m \u001b[0mmessage\u001b[0m \u001b[0;34m+\u001b[0m \u001b[0;34m'\\n'\u001b[0m\u001b[0;34m\u001b[0m\u001b[0;34m\u001b[0m\u001b[0m\n\u001b[0;32m--> 193\u001b[0;31m     \u001b[0;32mraise\u001b[0m \u001b[0mUnknownFormatError\u001b[0m\u001b[0;34m(\u001b[0m\u001b[0;34m\"All handlers returned exceptions:\\n\"\u001b[0m \u001b[0;34m+\u001b[0m \u001b[0mexceptions\u001b[0m\u001b[0;34m)\u001b[0m\u001b[0;34m\u001b[0m\u001b[0;34m\u001b[0m\u001b[0m\n\u001b[0m\u001b[1;32m    194\u001b[0m \u001b[0;34m\u001b[0m\u001b[0m\n\u001b[1;32m    195\u001b[0m \u001b[0;34m\u001b[0m\u001b[0m\n",
      "\u001b[0;31mUnknownFormatError\u001b[0m: All handlers returned exceptions:\n<class 'pims.image_reader.ImageReader'> errored: No such file: '/Users/nicholassofroniew/Github/image-demos/notebooks/s3:/sofroniewn/image-data/bees/*.jpg'\n<class 'pims.image_reader.ImageReaderND'> errored: No such file: '/Users/nicholassofroniew/Github/image-demos/notebooks/s3:/sofroniewn/image-data/bees/*.jpg'\n<class 'pims.imageio_reader.ImageIOReader'> errored: No such file: '/Users/nicholassofroniew/Github/image-demos/notebooks/s3:/sofroniewn/image-data/bees/*.jpg'\n<class 'pims.bioformats.BioformatsReader'> errored: The file \"s3://sofroniewn/image-data/bees/*.jpg\" does not exist.\n"
     ]
    }
   ],
   "source": [
    "remote_array = imread(remote_path + '*.jpg')"
   ]
  },
  {
   "cell_type": "code",
   "execution_count": null,
   "metadata": {},
   "outputs": [],
   "source": [
    "with fs.open('my-bucket/my-file.txt', 'rb') as f:\n",
    "...     print(f.read())"
   ]
  },
  {
   "cell_type": "code",
   "execution_count": 15,
   "metadata": {},
   "outputs": [],
   "source": [
    "import imageio"
   ]
  },
  {
   "cell_type": "code",
   "execution_count": 17,
   "metadata": {},
   "outputs": [
    {
     "name": "stdout",
     "output_type": "stream",
     "text": [
      "(412, 500, 3)\n"
     ]
    }
   ],
   "source": [
    "with open(local_path + '17209602_fe5a5a746f.jpg', 'rb') as f:\n",
    "    array = imageio.imread(f.read(), format='jpg')\n",
    "    print(array.shape)"
   ]
  },
  {
   "cell_type": "code",
   "execution_count": 26,
   "metadata": {},
   "outputs": [],
   "source": [
    "import s3fs\n",
    "fs = s3fs.S3FileSystem()\n",
    "files = fs.ls('sofroniewn/image-data/bees/')\n",
    "with fs.open(files[1], mode='rb') as f:\n",
    "    array = imageio.imread(f.read(), format='jpg')\n",
    "    print(array.shape)"
   ]
  },
  {
   "cell_type": "code",
   "execution_count": 27,
   "metadata": {},
   "outputs": [
    {
     "data": {
      "text/plain": [
       "'sofroniewn/image-data/bees/1092977343_cb42b38d62.jpg'"
      ]
     },
     "execution_count": 27,
     "metadata": {},
     "output_type": "execute_result"
    }
   ],
   "source": [
    "files[0]"
   ]
  },
  {
   "cell_type": "code",
   "execution_count": 31,
   "metadata": {},
   "outputs": [
    {
     "name": "stdout",
     "output_type": "stream",
     "text": [
      "(333, 500, 3)\n"
     ]
    }
   ],
   "source": [
    "with fs.open(files[1], mode='rb') as f:\n",
    "    array = imageio.imread(f.read(), format='jpg')\n",
    "    print(array.shape)"
   ]
  },
  {
   "cell_type": "code",
   "execution_count": null,
   "metadata": {},
   "outputs": [],
   "source": []
  }
 ],
 "metadata": {
  "kernelspec": {
   "display_name": "Python 3",
   "language": "python",
   "name": "python3"
  },
  "language_info": {
   "codemirror_mode": {
    "name": "ipython",
    "version": 3
   },
   "file_extension": ".py",
   "mimetype": "text/x-python",
   "name": "python",
   "nbconvert_exporter": "python",
   "pygments_lexer": "ipython3",
   "version": "3.7.3"
  }
 },
 "nbformat": 4,
 "nbformat_minor": 2
}
