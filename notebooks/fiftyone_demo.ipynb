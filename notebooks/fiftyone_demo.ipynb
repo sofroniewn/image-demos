{
 "cells": [
  {
   "cell_type": "code",
   "execution_count": 1,
   "source": [
    "import fiftyone.zoo as foz\n",
    "\n",
    "\n",
    "dataset = foz.load_zoo_dataset(\"quickstart\")\n",
    "print(dataset)"
   ],
   "outputs": [
    {
     "output_type": "stream",
     "name": "stdout",
     "text": [
      "NumExpr defaulting to 8 threads.\n",
      "Dataset already downloaded\n",
      "Loading existing dataset 'quickstart'. To reload from disk, either delete the existing dataset or provide a custom `dataset_name` to use\n",
      "Name:        quickstart\n",
      "Media type:  image\n",
      "Num samples: 200\n",
      "Persistent:  False\n",
      "Tags:        ['validation']\n",
      "Sample fields:\n",
      "    id:           fiftyone.core.fields.ObjectIdField\n",
      "    filepath:     fiftyone.core.fields.StringField\n",
      "    tags:         fiftyone.core.fields.ListField(fiftyone.core.fields.StringField)\n",
      "    metadata:     fiftyone.core.fields.EmbeddedDocumentField(fiftyone.core.metadata.Metadata)\n",
      "    ground_truth: fiftyone.core.fields.EmbeddedDocumentField(fiftyone.core.labels.Detections)\n",
      "    uniqueness:   fiftyone.core.fields.FloatField\n",
      "    predictions:  fiftyone.core.fields.EmbeddedDocumentField(fiftyone.core.labels.Detections)\n"
     ]
    }
   ],
   "metadata": {}
  },
  {
   "cell_type": "code",
   "execution_count": 6,
   "source": [
    "sample = dataset.first()"
   ],
   "outputs": [],
   "metadata": {}
  },
  {
   "cell_type": "code",
   "execution_count": 54,
   "source": [
    "import numpy as np\n",
    "\n",
    "\n",
    "def detections_to_shapes(detections, frame_size, metadata=None):\n",
    "    \"\"\"Convert a list of detections into a shapes tuple.\n",
    "    \n",
    "    Parameters\n",
    "    ----------\n",
    "    detections : fiftyone.core.labels.Detection\n",
    "\n",
    "    Returns\n",
    "    -------\n",
    "    tuple\n",
    "        Shape layer data tuple, consisting of list of shapes\n",
    "        layer data, shapes layer metadata, and `Shapes`.\n",
    "    \"\"\"\n",
    "    polylines = detections.to_polylines().polylines\n",
    "    shapes_data = []\n",
    "    properties = {}\n",
    "    for polyline in polylines:\n",
    "        polyline_dict = polyline.to_dict()\n",
    "        points = np.array(polyline_dict.pop('points')[0])[:, ::-1]\n",
    "        points = np.multiply(points, frame_size)\n",
    "        shapes_data.append(points)\n",
    "        for key, value in polyline_dict.items():\n",
    "            if not isinstance(value, dict) and not isinstance(value, list):\n",
    "                existing_values = properties.get(key, [])\n",
    "                existing_values.append(value)\n",
    "                properties[key] = existing_values\n",
    "    layer_metadata = {'properties': properties, 'shape_type': 'polygon'}\n",
    "    if metadata is not None:\n",
    "        layer_metadata.update(metadata)\n",
    "\n",
    "    return shapes_data, layer_metadata, 'Shapes'"
   ],
   "outputs": [],
   "metadata": {}
  },
  {
   "cell_type": "code",
   "execution_count": 72,
   "source": [
    "from imageio import imread\n",
    "\n",
    "\n",
    "def sample_to_image(sample):\n",
    "    image = imread(sample.filepath)\n",
    "    metadata = {}\n",
    "    metadata['name'] = sample.id\n",
    "    return (image, metadata, 'Image')\n",
    "\n",
    "\n",
    "def sample_to_layers(sample):\n",
    "    layer_data = []\n",
    "    image_data = sample_to_image(sample)\n",
    "    frame_size = image_data[0].shape[:-1]\n",
    "    layer_data.append(image_data)\n",
    "    metadata = {'name': 'ground_truth',\n",
    "                'edge_width':2,\n",
    "                'edge_color': 'green',\n",
    "                'face_color':'transparent',\n",
    "                'text': {\n",
    "                    'text': 'label',\n",
    "                    'size': 12,\n",
    "                    'color': 'green',\n",
    "                    'anchor': 'upper_left',\n",
    "                    'translation': [-1, 0],\n",
    "                    }\n",
    "                }\n",
    "    layer_data.append(detections_to_shapes(sample.ground_truth, frame_size, metadata))\n",
    "    metadata = {'name': 'predictions',\n",
    "                'edge_width':2,\n",
    "                'edge_color': 'red',\n",
    "                'face_color':'transparent',\n",
    "                'text': {\n",
    "                    'text': 'label',\n",
    "                    'size': 12,\n",
    "                    'color': 'red',\n",
    "                    'anchor': 'upper_left',\n",
    "                    'translation': [-1, 0],\n",
    "                    }\n",
    "                }\n",
    "    layer_data.append(detections_to_shapes(sample.predictions, frame_size, metadata))\n",
    "    return layer_data"
   ],
   "outputs": [],
   "metadata": {}
  },
  {
   "cell_type": "code",
   "execution_count": 80,
   "source": [
    "# image = sample_to_image(sample)\n",
    "# shapes = detections_to_shapes(sample.ground_truth, image[0].shape[:-1])\n",
    "\n",
    "layer_data = sample_to_layers(dataset.take(1).first())"
   ],
   "outputs": [],
   "metadata": {}
  },
  {
   "cell_type": "code",
   "execution_count": 81,
   "source": [
    "for ld in layer_data:\n",
    "    viewer._add_layer_from_data(*ld)"
   ],
   "outputs": [],
   "metadata": {}
  },
  {
   "cell_type": "code",
   "execution_count": 89,
   "source": [
    "import napari\n",
    "viewer = napari.Viewer()"
   ],
   "outputs": [],
   "metadata": {}
  },
  {
   "cell_type": "code",
   "execution_count": 82,
   "source": [
    "samples = list(dataset.iter_samples())"
   ],
   "outputs": [],
   "metadata": {}
  },
  {
   "cell_type": "code",
   "execution_count": 90,
   "source": [
    "from qtpy.QtWidgets import QListWidget\n",
    "\n",
    "\n",
    "def load_sample(idx):\n",
    "    idx = int(idx.text())\n",
    "    print('Loading', idx, '...')\n",
    "    sample = samples[idx]\n",
    "    viewer.layers.select_all()\n",
    "    viewer.layers.remove_selected()\n",
    "    layer_data = sample_to_layers(sample)    \n",
    "    for ld in layer_data:\n",
    "        viewer._add_layer_from_data(*ld)\n",
    "    print('... done.')\n",
    "\n",
    "list_widget = QListWidget()\n",
    "for n in range(len(samples)):\n",
    "    list_widget.addItem(str(n))\n",
    "\n",
    "list_widget.currentItemChanged.connect(load_sample)\n",
    "\n",
    "viewer.window.add_dock_widget(list_widget, area='right')"
   ],
   "outputs": [
    {
     "output_type": "execute_result",
     "data": {
      "text/plain": [
       "<napari._qt.widgets.qt_viewer_dock_widget.QtViewerDockWidget at 0x7faf90a28910>"
      ]
     },
     "metadata": {},
     "execution_count": 90
    },
    {
     "output_type": "stream",
     "name": "stdout",
     "text": [
      "Loading <PyQt5.QtWidgets.QListWidgetItem object at 0x7faf764c3eb0> ...\n",
      "Loading <PyQt5.QtWidgets.QListWidgetItem object at 0x7faf764c37d0> ...\n",
      "Loading <PyQt5.QtWidgets.QListWidgetItem object at 0x7faf7429fcd0> ...\n"
     ]
    }
   ],
   "metadata": {}
  },
  {
   "cell_type": "code",
   "execution_count": 91,
   "source": [
    "1"
   ],
   "outputs": [
    {
     "output_type": "execute_result",
     "data": {
      "text/plain": [
       "1"
      ]
     },
     "metadata": {},
     "execution_count": 91
    },
    {
     "output_type": "stream",
     "name": "stdout",
     "text": [
      "Loading <PyQt5.QtWidgets.QListWidgetItem object at 0x7faf764c3b90> ...\n"
     ]
    }
   ],
   "metadata": {}
  },
  {
   "cell_type": "code",
   "execution_count": null,
   "source": [],
   "outputs": [],
   "metadata": {}
  }
 ],
 "metadata": {
  "orig_nbformat": 4,
  "language_info": {
   "name": "python",
   "version": "3.7.4",
   "mimetype": "text/x-python",
   "codemirror_mode": {
    "name": "ipython",
    "version": 3
   },
   "pygments_lexer": "ipython3",
   "nbconvert_exporter": "python",
   "file_extension": ".py"
  },
  "kernelspec": {
   "name": "python3",
   "display_name": "Python 3.7.4 64-bit ('base': conda)"
  },
  "interpreter": {
   "hash": "96682a28e22a9ad1e89faf61f79559f6700c9ba1d2445563a397f03742fb09f6"
  }
 },
 "nbformat": 4,
 "nbformat_minor": 2
}