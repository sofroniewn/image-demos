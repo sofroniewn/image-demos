{
 "cells": [
  {
   "cell_type": "markdown",
   "metadata": {},
   "source": [
    "## Initial setup"
   ]
  },
  {
   "cell_type": "code",
   "execution_count": null,
   "metadata": {},
   "outputs": [],
   "source": [
    "%gui qt"
   ]
  },
  {
   "cell_type": "code",
   "execution_count": null,
   "metadata": {},
   "outputs": [],
   "source": [
    "from skimage.io import imread\n",
    "import numpy as np\n",
    "from napari import Viewer"
   ]
  },
  {
   "cell_type": "code",
   "execution_count": null,
   "metadata": {},
   "outputs": [],
   "source": [
    "cells = imread('../data/cells/cells.tif')\n",
    "cells[470:, 320:, :] = cells[470, 320, :]\n",
    "centers = np.loadtxt('../data/cells/cells_centers.csv', delimiter=',')\n",
    "shapes = np.load('../data/cells/cells_boundaries.npy')\n",
    "face_colors = ['red', 'blue', 'green', 'yellow', 'cyan', 'magenta', 'white']"
   ]
  },
  {
   "cell_type": "markdown",
   "metadata": {},
   "source": [
    "## Launch viewer"
   ]
  },
  {
   "cell_type": "code",
   "execution_count": null,
   "metadata": {},
   "outputs": [],
   "source": [
    "viewer = Viewer()\n",
    "\n",
    "membrane = viewer.add_image(cells[:, :, 0], name='membrane', colormap='magenta',\n",
    "                            clim = [0.0, 255.0], blending='additive')\n",
    "\n",
    "cytoplasm = viewer.add_image(cells[:, :, 1], name='cytoplasm', clim=[0.0, 255.0],\n",
    "                             colormap='yellow', blending='additive')\n",
    "\n",
    "nucleus = viewer.add_image(cells[:, :, 2], name='nucleus', clim=[0.0, 255.0],\n",
    "                           colormap='cyan', blending='additive')\n",
    "\n",
    "boundaries_layer = viewer.add_shapes(shapes, shape_type='polygon',\n",
    "                                     face_color=face_colors,\n",
    "                                     name='boundaries', visible=False)\n",
    "\n",
    "\n",
    "centers_layer = viewer.add_points(centers, name='nuclei centers', size=20, edge_width=0,\n",
    "                                  face_color='blue', opacity=0.75, visible=False)"
   ]
  },
  {
   "cell_type": "markdown",
   "metadata": {},
   "source": [
    "### Interact with viewer"
   ]
  },
  {
   "cell_type": "code",
   "execution_count": null,
   "metadata": {},
   "outputs": [],
   "source": [
    "# Look at the currently added layers\n",
    "viewer.layers"
   ]
  },
  {
   "cell_type": "code",
   "execution_count": null,
   "metadata": {},
   "outputs": [],
   "source": [
    "# Inspect the Points data\n",
    "viewer.layers['nuclei centers'].data"
   ]
  },
  {
   "cell_type": "code",
   "execution_count": null,
   "metadata": {},
   "outputs": [],
   "source": [
    "# Inspect the Shapes data\n",
    "viewer.layers['boundaries'].data"
   ]
  },
  {
   "cell_type": "code",
   "execution_count": null,
   "metadata": {},
   "outputs": [],
   "source": []
  }
 ],
 "metadata": {
  "kernelspec": {
   "display_name": "Python 3",
   "language": "python",
   "name": "python3"
  },
  "language_info": {
   "codemirror_mode": {
    "name": "ipython",
    "version": 3
   },
   "file_extension": ".py",
   "mimetype": "text/x-python",
   "name": "python",
   "nbconvert_exporter": "python",
   "pygments_lexer": "ipython3",
   "version": "3.7.3"
  }
 },
 "nbformat": 4,
 "nbformat_minor": 2
}
