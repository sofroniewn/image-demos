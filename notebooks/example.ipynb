{
 "cells": [
  {
   "cell_type": "markdown",
   "metadata": {},
   "source": [
    "## Initial setup"
   ]
  },
  {
   "cell_type": "code",
   "execution_count": 1,
   "metadata": {},
   "outputs": [],
   "source": [
    "%gui qt"
   ]
  },
  {
   "cell_type": "code",
   "execution_count": 2,
   "metadata": {},
   "outputs": [],
   "source": [
    "from napari import Viewer\n",
    "import numpy as np"
   ]
  },
  {
   "cell_type": "markdown",
   "metadata": {},
   "source": [
    "## Create an empty viewer"
   ]
  },
  {
   "cell_type": "code",
   "execution_count": 3,
   "metadata": {},
   "outputs": [],
   "source": [
    "viewer = Viewer()"
   ]
  },
  {
   "cell_type": "code",
   "execution_count": 5,
   "metadata": {},
   "outputs": [
    {
     "data": {
      "text/plain": [
       "[]"
      ]
     },
     "execution_count": 5,
     "metadata": {},
     "output_type": "execute_result"
    }
   ],
   "source": [
    "# Note the layers list is currently empty\n",
    "viewer.layers"
   ]
  },
  {
   "cell_type": "markdown",
   "metadata": {},
   "source": [
    "### Add an image layer"
   ]
  },
  {
   "cell_type": "code",
   "execution_count": 6,
   "metadata": {},
   "outputs": [
    {
     "data": {
      "text/plain": [
       "<Image layer 'random_image' at 0x1c32e19ef0>"
      ]
     },
     "execution_count": 6,
     "metadata": {},
     "output_type": "execute_result"
    }
   ],
   "source": [
    "viewer.add_image(np.random.random((100, 100)), name='random_image')"
   ]
  },
  {
   "cell_type": "code",
   "execution_count": 7,
   "metadata": {},
   "outputs": [
    {
     "data": {
      "text/plain": [
       "[<Image layer 'random_image' at 0x1c32e19ef0>]"
      ]
     },
     "execution_count": 7,
     "metadata": {},
     "output_type": "execute_result"
    }
   ],
   "source": [
    "# Note the layers list now contains our image\n",
    "viewer.layers"
   ]
  },
  {
   "cell_type": "code",
   "execution_count": 8,
   "metadata": {},
   "outputs": [
    {
     "data": {
      "text/plain": [
       "array([[0.97829565, 0.88003369, 0.24140599, ..., 0.85182455, 0.71155611,\n",
       "        0.84979706],\n",
       "       [0.05035485, 0.49921699, 0.38622984, ..., 0.05611689, 0.68903587,\n",
       "        0.79863886],\n",
       "       [0.02062101, 0.26986647, 0.30448544, ..., 0.14163086, 0.15087791,\n",
       "        0.44126089],\n",
       "       ...,\n",
       "       [0.64498095, 0.95567818, 0.3367524 , ..., 0.78365149, 0.74487439,\n",
       "        0.45696491],\n",
       "       [0.33353593, 0.79509171, 0.92960428, ..., 0.73732518, 0.69020705,\n",
       "        0.78591557],\n",
       "       [0.49639783, 0.27125137, 0.02169239, ..., 0.43303111, 0.66460545,\n",
       "        0.41035727]])"
      ]
     },
     "execution_count": 8,
     "metadata": {},
     "output_type": "execute_result"
    }
   ],
   "source": [
    "# Inspect the image data\n",
    "viewer.layers[0].data"
   ]
  },
  {
   "cell_type": "markdown",
   "metadata": {},
   "source": [
    "### Add a points layer in the gui"
   ]
  },
  {
   "cell_type": "code",
   "execution_count": 10,
   "metadata": {},
   "outputs": [
    {
     "data": {
      "text/plain": [
       "[<Image layer 'random_image' at 0x1c32e19ef0>,\n",
       " <Points layer 'Points' at 0x1c32e3cd68>]"
      ]
     },
     "execution_count": 10,
     "metadata": {},
     "output_type": "execute_result"
    }
   ],
   "source": [
    "# Note the layers list now contains two layers image and points\n",
    "viewer.layers"
   ]
  },
  {
   "cell_type": "code",
   "execution_count": 12,
   "metadata": {},
   "outputs": [
    {
     "data": {
      "text/plain": [
       "array([[ 16.85785901, -21.54723791],\n",
       "       [ -5.59154113,   6.06294387],\n",
       "       [ 15.82570268,  68.7664408 ],\n",
       "       [ 70.27194899,  64.37977641],\n",
       "       [ 62.27273745,  31.86685207],\n",
       "       [ 16.08374176,  10.70764735],\n",
       "       [ 35.694712  ,  56.63860395],\n",
       "       [ 50.66097875,  94.570349  ]])"
      ]
     },
     "execution_count": 12,
     "metadata": {},
     "output_type": "execute_result"
    }
   ],
   "source": [
    "# Inspect the points data\n",
    "viewer.layers[1].data"
   ]
  },
  {
   "cell_type": "code",
   "execution_count": 13,
   "metadata": {},
   "outputs": [],
   "source": [
    "# Set the points data in the notebook\n",
    "viewer.layers[1].data = 100 * np.random.random((20, 2))"
   ]
  },
  {
   "cell_type": "code",
   "execution_count": null,
   "metadata": {},
   "outputs": [],
   "source": []
  }
 ],
 "metadata": {
  "kernelspec": {
   "display_name": "Python 3",
   "language": "python",
   "name": "python3"
  },
  "language_info": {
   "codemirror_mode": {
    "name": "ipython",
    "version": 3
   },
   "file_extension": ".py",
   "mimetype": "text/x-python",
   "name": "python",
   "nbconvert_exporter": "python",
   "pygments_lexer": "ipython3",
   "version": "3.7.3"
  }
 },
 "nbformat": 4,
 "nbformat_minor": 2
}
