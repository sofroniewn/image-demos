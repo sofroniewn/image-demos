{
 "cells": [
  {
   "cell_type": "code",
   "execution_count": 1,
   "metadata": {},
   "outputs": [],
   "source": [
    "%gui qt"
   ]
  },
  {
   "cell_type": "code",
   "execution_count": 2,
   "metadata": {},
   "outputs": [
    {
     "data": {
      "text/plain": [
       "111"
      ]
     },
     "execution_count": 2,
     "metadata": {},
     "output_type": "execute_result"
    }
   ],
   "source": [
    "111"
   ]
  },
  {
   "cell_type": "code",
   "execution_count": 3,
   "metadata": {},
   "outputs": [
    {
     "name": "stdout",
     "output_type": "stream",
     "text": [
      "Fezf2 cyan\n",
      "Pde1a yellow\n",
      "Rorb magenta\n",
      "Kcnk2 red\n",
      "Cux2 green\n",
      "Alcam blue\n",
      "Gad2 cyan\n",
      "Sez6 yellow\n",
      "Satb2 magenta\n",
      "Mpped1 red\n",
      "Pvalb green\n"
     ]
    }
   ],
   "source": [
    "import numpy as np\n",
    "import pandas as pd\n",
    "from napari import Viewer, gui_qt\n",
    "import itertools\n",
    "\n",
    "raw_spots = pd.read_csv('../data-njs/smFISH/allen_smfish_spots.csv')\n",
    "spots = raw_spots.loc[:, ['x', 'y']].values\n",
    "spots[:, 1] = -spots[:, 1]\n",
    "\n",
    "gene_list = raw_spots['target'].unique()\n",
    "base_colormaps = ['cyan', 'yellow', 'magenta', 'red', 'green', 'blue']\n",
    "cycle_colors = itertools.cycle(base_colormaps)\n",
    "\n",
    "# create an empty viewer\n",
    "viewer = Viewer()\n",
    "\n",
    "# add the spots\n",
    "for g, c in zip(gene_list, cycle_colors):\n",
    "    print(g, c)\n",
    "    inds = raw_spots['target'] == g\n",
    "    layer = viewer.add_points(spots[inds], face_color=c, edge_width=0, name=g)"
   ]
  },
  {
   "cell_type": "code",
   "execution_count": 4,
   "metadata": {},
   "outputs": [
    {
     "data": {
      "text/plain": [
       "1111111"
      ]
     },
     "execution_count": 4,
     "metadata": {},
     "output_type": "execute_result"
    }
   ],
   "source": [
    "1111111"
   ]
  },
  {
   "cell_type": "code",
   "execution_count": null,
   "metadata": {},
   "outputs": [],
   "source": []
  },
  {
   "cell_type": "code",
   "execution_count": null,
   "metadata": {},
   "outputs": [],
   "source": []
  },
  {
   "cell_type": "code",
   "execution_count": null,
   "metadata": {},
   "outputs": [],
   "source": []
  },
  {
   "cell_type": "code",
   "execution_count": 6,
   "metadata": {},
   "outputs": [],
   "source": [
    "from napari.util.colormaps import colormaps\n",
    "cmap = colormaps.label_colormap(20)"
   ]
  },
  {
   "cell_type": "code",
   "execution_count": 7,
   "metadata": {},
   "outputs": [],
   "source": [
    "vals = raw_spots['color'].values / raw_spots['color'].max()"
   ]
  },
  {
   "cell_type": "code",
   "execution_count": 8,
   "metadata": {},
   "outputs": [],
   "source": [
    "colors = cmap.map(vals)"
   ]
  },
  {
   "cell_type": "code",
   "execution_count": 18,
   "metadata": {},
   "outputs": [],
   "source": [
    "# create an empty viewer\n",
    "viewer = Viewer()\n",
    "\n",
    "# add the spots\n",
    "layer = viewer.add_points(spots, face_color=colors, edge_width=0)"
   ]
  },
  {
   "cell_type": "code",
   "execution_count": 9,
   "metadata": {},
   "outputs": [],
   "source": []
  },
  {
   "cell_type": "code",
   "execution_count": 10,
   "metadata": {},
   "outputs": [
    {
     "data": {
      "text/plain": [
       "array(['Fezf2', 'Pde1a', 'Rorb', 'Kcnk2', 'Cux2', 'Alcam', 'Gad2', 'Sez6',\n",
       "       'Satb2', 'Mpped1', 'Pvalb'], dtype=object)"
      ]
     },
     "execution_count": 10,
     "metadata": {},
     "output_type": "execute_result"
    }
   ],
   "source": [
    "gene_list"
   ]
  },
  {
   "cell_type": "code",
   "execution_count": 11,
   "metadata": {},
   "outputs": [],
   "source": [
    "import itertools\n",
    "base_colormaps = ['cyan', 'yellow', 'magenta', 'red', 'green', 'blue']\n",
    "cycle_colors = itertools.cycle(base_colormaps)"
   ]
  },
  {
   "cell_type": "code",
   "execution_count": 12,
   "metadata": {},
   "outputs": [
    {
     "data": {
      "text/plain": [
       "111"
      ]
     },
     "execution_count": 12,
     "metadata": {},
     "output_type": "execute_result"
    }
   ],
   "source": [
    "111"
   ]
  },
  {
   "cell_type": "code",
   "execution_count": 13,
   "metadata": {},
   "outputs": [
    {
     "name": "stdout",
     "output_type": "stream",
     "text": [
      "Fezf2 cyan\n",
      "Pde1a yellow\n",
      "Rorb magenta\n",
      "Kcnk2 red\n",
      "Cux2 green\n",
      "Alcam blue\n",
      "Gad2 cyan\n",
      "Sez6 yellow\n",
      "Satb2 magenta\n",
      "Mpped1 red\n",
      "Pvalb green\n"
     ]
    }
   ],
   "source": [
    "# create an empty viewer\n",
    "viewer = Viewer()\n",
    "\n",
    "# add the spots\n",
    "for g, c in zip(gene_list, cycle_colors):\n",
    "    print(g, c)\n",
    "    inds = raw_spots['target'] == g\n",
    "    layer = viewer.add_points(spots[inds], face_color=c, edge_width=0, name=g)"
   ]
  },
  {
   "cell_type": "code",
   "execution_count": 14,
   "metadata": {},
   "outputs": [
    {
     "data": {
      "text/plain": [
       "1111111111111222"
      ]
     },
     "execution_count": 14,
     "metadata": {},
     "output_type": "execute_result"
    }
   ],
   "source": [
    "1111111111111222"
   ]
  },
  {
   "cell_type": "code",
   "execution_count": 16,
   "metadata": {},
   "outputs": [
    {
     "data": {
      "text/plain": [
       "12123123123333"
      ]
     },
     "execution_count": 16,
     "metadata": {},
     "output_type": "execute_result"
    }
   ],
   "source": [
    "12123123123333"
   ]
  },
  {
   "cell_type": "code",
   "execution_count": 17,
   "metadata": {},
   "outputs": [
    {
     "data": {
      "text/plain": [
       "13123123123131211"
      ]
     },
     "execution_count": 17,
     "metadata": {},
     "output_type": "execute_result"
    }
   ],
   "source": [
    "13123123123131211"
   ]
  },
  {
   "cell_type": "code",
   "execution_count": 18,
   "metadata": {},
   "outputs": [
    {
     "data": {
      "text/plain": [
       "212121"
      ]
     },
     "execution_count": 18,
     "metadata": {},
     "output_type": "execute_result"
    }
   ],
   "source": [
    "212121"
   ]
  },
  {
   "cell_type": "code",
   "execution_count": null,
   "metadata": {},
   "outputs": [],
   "source": []
  }
 ],
 "metadata": {
  "kernelspec": {
   "display_name": "Python 3",
   "language": "python",
   "name": "python3"
  },
  "language_info": {
   "codemirror_mode": {
    "name": "ipython",
    "version": 3
   },
   "file_extension": ".py",
   "mimetype": "text/x-python",
   "name": "python",
   "nbconvert_exporter": "python",
   "pygments_lexer": "ipython3",
   "version": "3.7.3"
  }
 },
 "nbformat": 4,
 "nbformat_minor": 2
}
