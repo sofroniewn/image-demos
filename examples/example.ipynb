{
 "cells": [
  {
   "cell_type": "code",
   "execution_count": 6,
   "metadata": {},
   "outputs": [],
   "source": [
    "%gui qt5\n",
    "\"\"\"\n",
    "Displays the cytoplasm, nucleus, and cell membrane of a field of cells in\n",
    "three different color channels\n",
    "\"\"\"\n",
    "\n",
    "from skimage.io import imread, imsave\n",
    "import numpy as np\n",
    "from napari import ViewerApp\n",
    "from napari.util import app_context\n",
    "from vispy.color import Colormap\n",
    "\n",
    "cells = imread('/Users/nicholassofroniew/Github/image-demos/data/allen_cell/cells.tif')\n",
    "labels = imread('/Users/nicholassofroniew/Github/image-demos/data/allen_cell/labels.tif')"
   ]
  },
  {
   "cell_type": "code",
   "execution_count": 10,
   "metadata": {},
   "outputs": [
    {
     "data": {
      "text/plain": [
       "1"
      ]
     },
     "execution_count": 10,
     "metadata": {},
     "output_type": "execute_result"
    }
   ],
   "source": [
    "1"
   ]
  },
  {
   "cell_type": "code",
   "execution_count": 8,
   "metadata": {},
   "outputs": [],
   "source": [
    "# create an empty viewer\n",
    "viewer = ViewerApp()\n",
    "\n",
    "ch1 = viewer.add_image(cells[:, 1, :, :].transpose(1, 2, 0),\n",
    "                               name='ch1 - red', clim_range=(300, 700))\n",
    "ch1.colormap = Colormap([(0, 0, 0, 1), (1., 0., 0., 1.)])\n",
    "ch1.clim = (400.0, 520.0)\n",
    "ch1.blending = 'additive'\n",
    "\n",
    "ch2 = viewer.add_image(cells[:, 2, :, :].transpose(1, 2, 0),\n",
    "                               name='ch2 - green')\n",
    "ch2.colormap = Colormap([(0, 0, 0, 1), (0., 1., 0., 1.)])\n",
    "ch2.clim = (410.0, 700.0)\n",
    "ch2.blending = 'additive'\n",
    "\n",
    "ch3 = viewer.add_image(cells[:, 3, :, :].transpose(1, 2, 0),\n",
    "                               name='ch3 - yellow', clim_range=(300, 700))\n",
    "ch3.colormap = Colormap([(0, 0, 0, 1), (1., 1., 0., 1.)])\n",
    "ch3.clim = (420.0, 500.0)\n",
    "ch3.blending = 'additive'\n",
    "\n",
    "ch4 = viewer.add_image(cells[:, 4, :, :].transpose(1, 2, 0),\n",
    "                               name='ch4 - blue')\n",
    "ch4.clim = (500.0, 1300.0)\n",
    "ch4.colormap = Colormap([(0, 0, 0, 1), (0., 0., 1., 1.)])\n",
    "ch4.blending = 'additive'\n",
    "\n",
    "# add brightfield\n",
    "brightfield = viewer.add_image(cells[:, 0, :, :].transpose(1, 2, 0),\n",
    "                               name='brightfield')\n",
    "brightfield.colormap = 'gray'\n",
    "\n",
    "\n",
    "#labels = np.zeros([cells.shape[i] for i in [2, 3, 0]])\n",
    "labels_layer = viewer.add_labels(labels, name='annotations')\n",
    "labels_layer.n_dimensional = False"
   ]
  },
  {
   "cell_type": "code",
   "execution_count": 5,
   "metadata": {},
   "outputs": [
    {
     "data": {
      "text/plain": [
       "15"
      ]
     },
     "execution_count": 5,
     "metadata": {},
     "output_type": "execute_result"
    }
   ],
   "source": [
    "labels_layer._raw_image.max()"
   ]
  },
  {
   "cell_type": "code",
   "execution_count": 9,
   "metadata": {},
   "outputs": [
    {
     "data": {
      "text/plain": [
       "array([[[0, 0, 0, ..., 0, 0, 0],\n",
       "        [0, 0, 0, ..., 0, 0, 0],\n",
       "        [0, 0, 0, ..., 0, 0, 0],\n",
       "        ...,\n",
       "        [0, 0, 0, ..., 0, 0, 0],\n",
       "        [0, 0, 0, ..., 0, 0, 0],\n",
       "        [0, 0, 0, ..., 0, 0, 0]],\n",
       "\n",
       "       [[0, 0, 0, ..., 0, 0, 0],\n",
       "        [0, 0, 0, ..., 0, 0, 0],\n",
       "        [0, 0, 0, ..., 0, 0, 0],\n",
       "        ...,\n",
       "        [0, 0, 0, ..., 0, 0, 0],\n",
       "        [0, 0, 0, ..., 0, 0, 0],\n",
       "        [0, 0, 0, ..., 0, 0, 0]],\n",
       "\n",
       "       [[0, 0, 0, ..., 0, 0, 0],\n",
       "        [0, 0, 0, ..., 0, 0, 0],\n",
       "        [0, 0, 0, ..., 0, 0, 0],\n",
       "        ...,\n",
       "        [0, 0, 0, ..., 0, 0, 0],\n",
       "        [0, 0, 0, ..., 0, 0, 0],\n",
       "        [0, 0, 0, ..., 0, 0, 0]],\n",
       "\n",
       "       ...,\n",
       "\n",
       "       [[0, 0, 0, ..., 0, 0, 0],\n",
       "        [0, 0, 0, ..., 0, 0, 0],\n",
       "        [0, 0, 0, ..., 0, 0, 0],\n",
       "        ...,\n",
       "        [0, 0, 0, ..., 0, 0, 0],\n",
       "        [0, 0, 0, ..., 0, 0, 0],\n",
       "        [0, 0, 0, ..., 0, 0, 0]],\n",
       "\n",
       "       [[0, 0, 0, ..., 0, 0, 0],\n",
       "        [0, 0, 0, ..., 0, 0, 0],\n",
       "        [0, 0, 0, ..., 0, 0, 0],\n",
       "        ...,\n",
       "        [0, 0, 0, ..., 0, 0, 0],\n",
       "        [0, 0, 0, ..., 0, 0, 0],\n",
       "        [0, 0, 0, ..., 0, 0, 0]],\n",
       "\n",
       "       [[0, 0, 0, ..., 0, 0, 0],\n",
       "        [0, 0, 0, ..., 0, 0, 0],\n",
       "        [0, 0, 0, ..., 0, 0, 0],\n",
       "        ...,\n",
       "        [0, 0, 0, ..., 0, 0, 0],\n",
       "        [0, 0, 0, ..., 0, 0, 0],\n",
       "        [0, 0, 0, ..., 0, 0, 0]]], dtype=uint32)"
      ]
     },
     "execution_count": 9,
     "metadata": {},
     "output_type": "execute_result"
    }
   ],
   "source": [
    "labels_layer._raw_image"
   ]
  },
  {
   "cell_type": "code",
   "execution_count": null,
   "metadata": {},
   "outputs": [],
   "source": []
  }
 ],
 "metadata": {
  "kernelspec": {
   "display_name": "Python 3",
   "language": "python",
   "name": "python3"
  },
  "language_info": {
   "codemirror_mode": {
    "name": "ipython",
    "version": 3
   },
   "file_extension": ".py",
   "mimetype": "text/x-python",
   "name": "python",
   "nbconvert_exporter": "python",
   "pygments_lexer": "ipython3",
   "version": "3.6.5"
  }
 },
 "nbformat": 4,
 "nbformat_minor": 2
}
